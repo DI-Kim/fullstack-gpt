{
 "cells": [
  {
   "cell_type": "code",
   "execution_count": 2,
   "metadata": {},
   "outputs": [],
   "source": [
    "from langchain.chat_models import ChatOpenAI\n",
    "from langchain.tools import StructuredTool\n",
    "from langchain.agents import initialize_agent, AgentType\n",
    "\n",
    "llm = ChatOpenAI(temperature=0.1)\n",
    "\n",
    "def plus(a, b):\n",
    "  return a + b\n",
    "\n",
    "agent = initialize_agent(\n",
    "  llm=llm, \n",
    "  verbose=True,\n",
    "  agent=AgentType.STRUCTURED_CHAT_ZERO_SHOT_REACT_DESCRIPTION,\n",
    "  tools=[\n",
    "    StructuredTool.from_function(\n",
    "      func=plus,\n",
    "      name=\"Sum Calculator\",\n",
    "      description=\"Use this to perfom sums of two numbers. This tool take two arguments, both should be numbers.\"\n",
    "  ),\n",
    "])\n",
    "\n",
    "prompt = \"Cost of $123.42 + $12932.12 + $121.3 + $120.59 + $1940.29 + $59.11\""
   ]
  },
  {
   "cell_type": "code",
   "execution_count": null,
   "metadata": {},
   "outputs": [],
   "source": []
  }
 ],
 "metadata": {
  "kernelspec": {
   "display_name": "env",
   "language": "python",
   "name": "python3"
  },
  "language_info": {
   "codemirror_mode": {
    "name": "ipython",
    "version": 3
   },
   "file_extension": ".py",
   "mimetype": "text/x-python",
   "name": "python",
   "nbconvert_exporter": "python",
   "pygments_lexer": "ipython3",
   "version": "3.11.8"
  }
 },
 "nbformat": 4,
 "nbformat_minor": 2
}
