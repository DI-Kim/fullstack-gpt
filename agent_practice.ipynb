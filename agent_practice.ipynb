{
 "cells": [
  {
   "cell_type": "code",
   "execution_count": 4,
   "metadata": {},
   "outputs": [
    {
     "name": "stdout",
     "output_type": "stream",
     "text": [
      "\n",
      "\n",
      "\u001b[1m> Entering new AgentExecutor chain...\u001b[0m\n",
      "\u001b[32;1m\u001b[1;3mI should use the Sum Calculator to add up all the numbers.\n",
      "Action: Sum Calculator\n",
      "Action Input: 123.42,12932.12\u001b[0m\n",
      "Observation: \u001b[36;1m\u001b[1;3m13055.54\u001b[0m\n",
      "Thought:\u001b[32;1m\u001b[1;3mI need to continue adding the remaining numbers.\n",
      "Action: Sum Calculator\n",
      "Action Input: 13055.54,121.3\u001b[0m\n",
      "Observation: \u001b[36;1m\u001b[1;3m13176.84\u001b[0m\n",
      "Thought:\u001b[32;1m\u001b[1;3mI need to keep adding the remaining numbers.\n",
      "Action: Sum Calculator\n",
      "Action Input: 13176.84,120.59\u001b[0m\n",
      "Observation: \u001b[36;1m\u001b[1;3m13297.43\u001b[0m\n",
      "Thought:\u001b[32;1m\u001b[1;3mI need to add the last two numbers.\n",
      "Action: Sum Calculator\n",
      "Action Input: 13297.43,1940.29\u001b[0m\n",
      "Observation: \u001b[36;1m\u001b[1;3m15237.720000000001\u001b[0m\n",
      "Thought:\u001b[32;1m\u001b[1;3mI now know the final answer\n",
      "Final Answer: $15237.72\u001b[0m\n",
      "\n",
      "\u001b[1m> Finished chain.\u001b[0m\n"
     ]
    },
    {
     "data": {
      "text/plain": [
       "{'input': 'Cost of $123.42 + $12932.12 + $121.3 + $120.59 + $1940.29 + $59.11',\n",
       " 'output': '$15237.72'}"
      ]
     },
     "execution_count": 4,
     "metadata": {},
     "output_type": "execute_result"
    }
   ],
   "source": [
    "from langchain.chat_models import ChatOpenAI\n",
    "from langchain.tools import StructuredTool, Tool\n",
    "from langchain.agents import initialize_agent, AgentType\n",
    "\n",
    "llm = ChatOpenAI(temperature=0.1)\n",
    "\n",
    "def plus(inputs):\n",
    "  a,b = inputs.split(',')\n",
    "  return float(a) + float(b)\n",
    "\n",
    "agent = initialize_agent(\n",
    "  llm=llm, \n",
    "  verbose=True,\n",
    "  agent=AgentType.ZERO_SHOT_REACT_DESCRIPTION,\n",
    "  handle_parsing_errors=True,\n",
    "  tools=[\n",
    "    Tool.from_function(\n",
    "      func=plus,\n",
    "      name=\"Sum Calculator\",\n",
    "      description=\"Use this to perfom sums of two numbers. Use this tool by snedgin a pair of number separated by a comma.\\n Example:1,2\"\n",
    "  ),\n",
    "])\n",
    "\n",
    "prompt = \"Cost of $123.42 + $12932.12 + $121.3 + $120.59 + $1940.29 + $59.11\"\n",
    "\n",
    "agent.invoke(prompt)"
   ]
  },
  {
   "cell_type": "code",
   "execution_count": null,
   "metadata": {},
   "outputs": [],
   "source": []
  }
 ],
 "metadata": {
  "kernelspec": {
   "display_name": "env",
   "language": "python",
   "name": "python3"
  },
  "language_info": {
   "codemirror_mode": {
    "name": "ipython",
    "version": 3
   },
   "file_extension": ".py",
   "mimetype": "text/x-python",
   "name": "python",
   "nbconvert_exporter": "python",
   "pygments_lexer": "ipython3",
   "version": "3.11.8"
  }
 },
 "nbformat": 4,
 "nbformat_minor": 2
}
