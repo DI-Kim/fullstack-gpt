{
 "cells": [
  {
   "cell_type": "code",
   "execution_count": 3,
   "metadata": {},
   "outputs": [
    {
     "name": "stdout",
     "output_type": "stream",
     "text": [
      "\n",
      "\n",
      "\u001b[1m> Entering new AgentExecutor chain...\u001b[0m\n",
      "\u001b[32;1m\u001b[1;3mI will use the Sum Calculator tool to calculate the total cost of these amounts.\n",
      "Thought: Let's add up all the given numbers using the Sum Calculator tool.\n",
      "Action:\n",
      "```\n",
      "{\n",
      "  \"action\": \"Sum Calculator\",\n",
      "  \"action_input\": {\"a\": 123.42, \"b\": 12932.12}\n",
      "}\n",
      "```\u001b[0m\n",
      "Observation: \u001b[36;1m\u001b[1;3m13055.54\u001b[0m\n",
      "Thought:\u001b[32;1m\u001b[1;3mNow, let's continue adding the remaining numbers to the sum we have so far.\n",
      "Action:\n",
      "```\n",
      "{\n",
      "  \"action\": \"Sum Calculator\",\n",
      "  \"action_input\": {\"a\": 13055.54, \"b\": 121.3}\n",
      "}\n",
      "```\u001b[0m\n",
      "Observation: \u001b[36;1m\u001b[1;3m13176.84\u001b[0m\n",
      "Thought:\u001b[32;1m\u001b[1;3mNow, let's add the next number to the sum we have so far.\n",
      "Action:\n",
      "```\n",
      "{\n",
      "  \"action\": \"Sum Calculator\",\n",
      "  \"action_input\": {\"a\": 13176.84, \"b\": 120.59}\n",
      "}\n",
      "```\u001b[0m\n",
      "Observation: \u001b[36;1m\u001b[1;3m13297.43\u001b[0m\n",
      "Thought:\u001b[32;1m\u001b[1;3mNow, let's add the second last number to the sum we have so far.\n",
      "Action:\n",
      "```\n",
      "{\n",
      "  \"action\": \"Sum Calculator\",\n",
      "  \"action_input\": {\"a\": 13297.43, \"b\": 1940.29}\n",
      "}\n",
      "```\u001b[0m\n",
      "Observation: \u001b[36;1m\u001b[1;3m15237.720000000001\u001b[0m\n",
      "Thought:\u001b[32;1m\u001b[1;3mNow, let's add the last number to the sum we have so far to get the total cost.\n",
      "Action:\n",
      "```\n",
      "{\n",
      "  \"action\": \"Sum Calculator\",\n",
      "  \"action_input\": {\"a\": 15237.72, \"b\": 59.11}\n",
      "}\n",
      "```\u001b[0m\n",
      "Observation: \u001b[36;1m\u001b[1;3m15296.83\u001b[0m\n",
      "Thought:\u001b[32;1m\u001b[1;3m{\n",
      "  \"action\": \"Final Answer\",\n",
      "  \"action_input\": \"The total cost of $123.42 + $12932.12 + $121.3 + $120.59 + $1940.29 + $59.11 is $15296.83.\"\n",
      "}\u001b[0m\n",
      "\n",
      "\u001b[1m> Finished chain.\u001b[0m\n"
     ]
    },
    {
     "data": {
      "text/plain": [
       "{'input': 'Cost of $123.42 + $12932.12 + $121.3 + $120.59 + $1940.29 + $59.11',\n",
       " 'output': '{\\n  \"action\": \"Final Answer\",\\n  \"action_input\": \"The total cost of $123.42 + $12932.12 + $121.3 + $120.59 + $1940.29 + $59.11 is $15296.83.\"\\n}'}"
      ]
     },
     "execution_count": 3,
     "metadata": {},
     "output_type": "execute_result"
    }
   ],
   "source": [
    "from langchain.chat_models import ChatOpenAI\n",
    "from langchain.tools import StructuredTool\n",
    "from langchain.agents import initialize_agent, AgentType\n",
    "\n",
    "llm = ChatOpenAI(temperature=0.1)\n",
    "\n",
    "def plus(a, b):\n",
    "  return a + b\n",
    "\n",
    "agent = initialize_agent(\n",
    "  llm=llm, \n",
    "  verbose=True,\n",
    "  agent=AgentType.STRUCTURED_CHAT_ZERO_SHOT_REACT_DESCRIPTION,\n",
    "  tools=[\n",
    "    StructuredTool.from_function(\n",
    "      func=plus,\n",
    "      name=\"Sum Calculator\",\n",
    "      description=\"Use this to perfom sums of two numbers. This tool take two arguments, both should be numbers.\"\n",
    "  ),\n",
    "])\n",
    "\n",
    "prompt = \"Cost of $123.42 + $12932.12 + $121.3 + $120.59 + $1940.29 + $59.11\"\n",
    "\n",
    "agent.invoke(prompt)"
   ]
  },
  {
   "cell_type": "code",
   "execution_count": null,
   "metadata": {},
   "outputs": [],
   "source": []
  }
 ],
 "metadata": {
  "kernelspec": {
   "display_name": "env",
   "language": "python",
   "name": "python3"
  },
  "language_info": {
   "codemirror_mode": {
    "name": "ipython",
    "version": 3
   },
   "file_extension": ".py",
   "mimetype": "text/x-python",
   "name": "python",
   "nbconvert_exporter": "python",
   "pygments_lexer": "ipython3",
   "version": "3.11.8"
  }
 },
 "nbformat": 4,
 "nbformat_minor": 2
}
