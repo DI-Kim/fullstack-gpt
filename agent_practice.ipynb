{
 "cells": [
  {
   "cell_type": "code",
   "execution_count": 3,
   "metadata": {},
   "outputs": [
    {
     "name": "stdout",
     "output_type": "stream",
     "text": [
      "\n",
      "\n",
      "\u001b[1m> Entering new AgentExecutor chain...\u001b[0m\n",
      "\u001b[32;1m\u001b[1;3m\n",
      "Invoking: `StockMarketSymbolSearchTool` with `{'query': 'Cloudflare stock market symbol'}`\n",
      "\n",
      "\n",
      "\u001b[0m\u001b[36;1m\u001b[1;3m[snippet: Find the latest Cloudflare, Inc. (NET) stock quote, history, news and other vital information to help you with your stock trading and investing. ... Market Cap: 32.753B: Beta (5Y Monthly) 1.13 ..., title: Cloudflare, Inc. (NET) Stock Price, News, Quote & History - Yahoo Finance, link: https://finance.yahoo.com/quote/NET/], [snippet: Get the latest Cloudflare Inc (NET) real-time quote, historical performance, charts, and other financial information to help you make more informed trading and investment decisions., title: Cloudflare Inc (NET) Stock Price & News - Google Finance, link: https://www.google.com/finance/quote/NET:NYSE], [snippet: Technology Expedia, Cloudflare, Affirm, PepsiCo, AMC Networks, Pinterest, Take-Two, and More of Today's Stock Market Movers Feb. 9, 2024 at 4:49 p.m. ET by Barron's, title: NET Stock Price | Cloudflare Inc. Cl A Stock Quote (U.S.: NYSE ..., link: https://www.marketwatch.com/investing/stock/net], [snippet: Real time Cloudflare (NET) stock price quote, stock graph, news & analysis., title: Cloudflare (NET) Stock Price, News & Info | The Motley Fool, link: https://www.fool.com/quote/nyse/net/]\u001b[0m\u001b[32;1m\u001b[1;3m\n",
      "Invoking: `StockMarketSymbolSearchTool` with `{'query': 'Cloudflare stock'}`\n",
      "responded: The stock market symbol for Cloudflare is \"NET\". \n",
      "\n",
      "To analyze if Cloudflare's stock is a potential good investment, we can look at factors such as the company's financial performance, growth prospects, competitive position, and market trends. Let's start by looking at the current stock price and key financial information for Cloudflare.\n",
      "\n",
      "\u001b[0m\u001b[36;1m\u001b[1;3m[snippet: Find the latest Cloudflare, Inc. (NET) stock quote, history, news and other vital information to help you with your stock trading and investing., title: Cloudflare, Inc. (NET) Stock Price, News, Quote & History - Yahoo Finance, link: https://finance.yahoo.com/quote/NET/], [snippet: Get the latest Cloudflare Inc (NET) real-time quote, historical performance, charts, and other financial information to help you make more informed trading and investment decisions., title: Cloudflare Inc (NET) Stock Price & News - Google Finance, link: https://www.google.com/finance/quote/NET:NYSE], [snippet: Get the latest price, performance, and news for Cloudflare Inc. Cl A (NET), a cloud computing company that provides security and performance services. See analyst ratings, earnings, and recent headlines for NET stock., title: NET Stock Price | Cloudflare Inc. Cl A Stock Quote (U.S.: NYSE ..., link: https://www.marketwatch.com/investing/stock/net], [snippet: Get the latest on Cloudflare, a cloud-based security and performance company, including its stock performance, earnings, news, analysis and podcasts. Learn how Cloudflare benefits from artificial intelligence and cybersecurity trends., title: Cloudflare (NET) Stock Price, News & Info | The Motley Fool, link: https://www.fool.com/quote/nyse/net/]\u001b[0m\u001b[32;1m\u001b[1;3mHere are some resources where you can find information on Cloudflare's stock price, history, news, and other vital information:\n",
      "\n",
      "1. [Cloudflare, Inc. (NET) Stock Price, News, Quote & History - Yahoo Finance](https://finance.yahoo.com/quote/NET/)\n",
      "2. [Cloudflare Inc (NET) Stock Price & News - Google Finance](https://www.google.com/finance/quote/NET:NYSE)\n",
      "3. [NET Stock Price | Cloudflare Inc. Cl A Stock Quote (U.S.: NYSE) - MarketWatch](https://www.marketwatch.com/investing/stock/net)\n",
      "4. [Cloudflare (NET) Stock Price, News & Info | The Motley Fool](https://www.fool.com/quote/nyse/net)\n",
      "\n",
      "You can review these sources to gather more information on Cloudflare's stock performance and financial data. This information can help you analyze if Cloudflare's stock is a potential good investment.\u001b[0m\n",
      "\n",
      "\u001b[1m> Finished chain.\u001b[0m\n"
     ]
    },
    {
     "data": {
      "text/plain": [
       "{'input': \"Give me information on Cloudflare's stock and help me analyze if it's a potential good investment. Also tell me what symbol does the stock have.\",\n",
       " 'output': \"Here are some resources where you can find information on Cloudflare's stock price, history, news, and other vital information:\\n\\n1. [Cloudflare, Inc. (NET) Stock Price, News, Quote & History - Yahoo Finance](https://finance.yahoo.com/quote/NET/)\\n2. [Cloudflare Inc (NET) Stock Price & News - Google Finance](https://www.google.com/finance/quote/NET:NYSE)\\n3. [NET Stock Price | Cloudflare Inc. Cl A Stock Quote (U.S.: NYSE) - MarketWatch](https://www.marketwatch.com/investing/stock/net)\\n4. [Cloudflare (NET) Stock Price, News & Info | The Motley Fool](https://www.fool.com/quote/nyse/net)\\n\\nYou can review these sources to gather more information on Cloudflare's stock performance and financial data. This information can help you analyze if Cloudflare's stock is a potential good investment.\"}"
      ]
     },
     "execution_count": 3,
     "metadata": {},
     "output_type": "execute_result"
    }
   ],
   "source": [
    "from typing import Any, Type\n",
    "from langchain.chat_models import ChatOpenAI\n",
    "from langchain.tools import BaseTool, DuckDuckGoSearchResults\n",
    "from pydantic import BaseModel, Field\n",
    "from langchain.agents import initialize_agent, AgentType\n",
    "\n",
    "llm = ChatOpenAI(temperature=0.1)\n",
    "\n",
    "class StockMarketSymbolSearchToolArgsSchema(BaseModel):\n",
    "  query: str = Field(description=\"The query you will search for. Example query: Stock Market Symbol for Apple Company\")\n",
    "\n",
    "class StockMarketSymbolSearchTool(BaseTool):\n",
    "  name = \"StockMarketSymbolSearchTool\"\n",
    "  description= \"\"\"\n",
    "    Use this tool to find the stock market symbol for a company.\n",
    "    It takes a query as an argument.\n",
    "    \"\"\"\n",
    "  args_schema: Type[StockMarketSymbolSearchToolArgsSchema] = StockMarketSymbolSearchToolArgsSchema\n",
    "  \n",
    "  def _run(self, query):\n",
    "    ddg = DuckDuckGoSearchResults()\n",
    "    return ddg.run(query)\n",
    "\n",
    "    \n",
    "\n",
    "agent = initialize_agent(\n",
    "  llm=llm, \n",
    "  verbose=True,\n",
    "  agent=AgentType.OPENAI_FUNCTIONS,\n",
    "  handle_parsing_errors=True,\n",
    "  tools=[StockMarketSymbolSearchTool()]\n",
    ")\n",
    "\n",
    "prompt = \"Give me information on Cloudflare's stock and help me analyze if it's a potential good investment. Also tell me what symbol does the stock have.\"\n",
    "\n",
    "agent.invoke(prompt)"
   ]
  },
  {
   "cell_type": "code",
   "execution_count": null,
   "metadata": {},
   "outputs": [],
   "source": []
  }
 ],
 "metadata": {
  "kernelspec": {
   "display_name": "env",
   "language": "python",
   "name": "python3"
  },
  "language_info": {
   "codemirror_mode": {
    "name": "ipython",
    "version": 3
   },
   "file_extension": ".py",
   "mimetype": "text/x-python",
   "name": "python",
   "nbconvert_exporter": "python",
   "pygments_lexer": "ipython3",
   "version": "3.11.8"
  }
 },
 "nbformat": 4,
 "nbformat_minor": 2
}
