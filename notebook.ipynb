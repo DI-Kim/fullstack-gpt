{
 "cells": [
  {
   "cell_type": "code",
   "execution_count": 9,
   "metadata": {},
   "outputs": [
    {
     "name": "stdout",
     "output_type": "stream",
     "text": [
      "There are two Koreas: North Korea and South Korea. Here are some key points about each:\n",
      "\n",
      "South Korea:\n",
      "Capital: Seoul\n",
      "Language: Korean\n",
      "Currency: South Korean Won\n",
      "Famous for: K-pop, technology, kimchi\n",
      "\n",
      "North Korea:\n",
      "Capital: Pyongyang\n",
      "Language: Korean\n",
      "Currency: North Korean Won\n",
      "Known for: Isolationist policies, strict government control"
     ]
    },
    {
     "data": {
      "text/plain": [
       "AIMessageChunk(content='There are two Koreas: North Korea and South Korea. Here are some key points about each:\\n\\nSouth Korea:\\nCapital: Seoul\\nLanguage: Korean\\nCurrency: South Korean Won\\nFamous for: K-pop, technology, kimchi\\n\\nNorth Korea:\\nCapital: Pyongyang\\nLanguage: Korean\\nCurrency: North Korean Won\\nKnown for: Isolationist policies, strict government control')"
      ]
     },
     "execution_count": 9,
     "metadata": {},
     "output_type": "execute_result"
    }
   ],
   "source": [
    "from langchain.chat_models import ChatOpenAI\n",
    "from langchain.prompts import ChatPromptTemplate\n",
    "from langchain.prompts.few_shot import FewShotChatMessagePromptTemplate\n",
    "from langchain.callbacks import StreamingStdOutCallbackHandler\n",
    "# FewShotPromptTemplate는 어떤 식으로 출력해야되는지 예제를 알려주는 것이다. (propmpting만 하는 것보다 좋은 방식)\n",
    "chat = ChatOpenAI(\n",
    "  temperature=0.1,\n",
    "  streaming=True,\n",
    "  callbacks=[StreamingStdOutCallbackHandler()]\n",
    ")\n",
    "\n",
    "examples = [\n",
    "{\n",
    "\"country\": \"France\",\n",
    "\"answer\": \"\"\"\n",
    "Here is what I know:\n",
    "Capital: Paris\n",
    "Language: French\n",
    "Food: Wine and Cheese\n",
    "Currency: Euro\n",
    "\"\"\",\n",
    "},\n",
    "{\n",
    "\"country\": \"Italy\",\n",
    "\"answer\": \"\"\"\n",
    "I know this:\n",
    "Capital: Rome\n",
    "Language: Italian\n",
    "Food: Pizza and Pasta\n",
    "Currency: Euro\n",
    "\"\"\",\n",
    "},\n",
    "{\n",
    "\"country\": \"Greece\",\n",
    "\"answer\": \"\"\"\n",
    "I know this:\n",
    "Capital: Athens\n",
    "Language: Greek\n",
    "Food: Souvlaki and Feta Cheese\n",
    "Currency: Euro\n",
    "\"\"\",\n",
    "},\n",
    "]\n",
    "\n",
    "# example_template = \"\"\"\n",
    "#   Human: {question}\n",
    "#   AI: {answer}\n",
    "# \"\"\"\n",
    "# example_prompt = PromptTemplate.from_template(example_template)\n",
    "# 위의 코드와 아래코드는 같은 결과를 도출한다. 원하는 템플릿 예시가 너무 길다면 위의 방식을 사용하는 것이 좋아보인다.\n",
    "example_prompt = ChatPromptTemplate.from_messages([\n",
    "  (\"human\", \"What do you know about {country}?\"),\n",
    "  (\"ai\", \"{answer}\")\n",
    "])\n",
    "\n",
    "example_prompt = FewShotChatMessagePromptTemplate(\n",
    "  example_prompt=example_prompt,\n",
    "  examples=examples,\n",
    ")\n",
    "\n",
    "final_prompt = ChatPromptTemplate.from_messages([\n",
    "  (\"system\", \"You are a geography expert.\"),\n",
    "  example_prompt,\n",
    "  (\"human\", \"What do you know about {country}\")\n",
    "])\n",
    "\n",
    "chain = final_prompt | chat\n",
    "\n",
    "chain.invoke({\n",
    "  \"country\": \"Korea\"\n",
    "})"
   ]
  },
  {
   "cell_type": "code",
   "execution_count": null,
   "metadata": {},
   "outputs": [],
   "source": []
  }
 ],
 "metadata": {
  "kernelspec": {
   "display_name": "env",
   "language": "python",
   "name": "python3"
  },
  "language_info": {
   "codemirror_mode": {
    "name": "ipython",
    "version": 3
   },
   "file_extension": ".py",
   "mimetype": "text/x-python",
   "name": "python",
   "nbconvert_exporter": "python",
   "pygments_lexer": "ipython3",
   "version": "3.11.8"
  }
 },
 "nbformat": 4,
 "nbformat_minor": 2
}
