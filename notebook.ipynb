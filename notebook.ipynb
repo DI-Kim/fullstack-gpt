{
 "cells": [
  {
   "cell_type": "code",
   "execution_count": 20,
   "metadata": {},
   "outputs": [],
   "source": [
    "from langchain.chat_models import ChatOpenAI\n",
    "from langchain.prompts import ChatPromptTemplate\n",
    "from langchain.callbacks import StreamingStdOutCallbackHandler\n",
    "\n",
    "chat = ChatOpenAI(\n",
    "  temperature=0.1,\n",
    "  streaming=True,\n",
    "  callbacks=[StreamingStdOutCallbackHandler()]\n",
    ")\n",
    "\n",
    "language_select_prompt = ChatPromptTemplate.from_messages([\n",
    "  (\"system\", \"You are a world-class programmer. recommend one programming language except python. JUST saying one word\"),\n",
    "])\n",
    "\n",
    "language_chain = language_select_prompt | chat"
   ]
  },
  {
   "cell_type": "code",
   "execution_count": 21,
   "metadata": {},
   "outputs": [
    {
     "name": "stdout",
     "output_type": "stream",
     "text": [
      "JavaScriptIn the code we trust,\n",
      "JavaScript whispers secrets,\n",
      "Creating magic."
     ]
    },
    {
     "data": {
      "text/plain": [
       "AIMessageChunk(content='In the code we trust,\\nJavaScript whispers secrets,\\nCreating magic.')"
      ]
     },
     "execution_count": 21,
     "metadata": {},
     "output_type": "execute_result"
    }
   ],
   "source": [
    "poet_prompt = ChatPromptTemplate.from_messages([\n",
    "  (\"system\", \"You are a world-class international poet. You create Haiku poem using the words provided.\"),\n",
    "  (\"human\", \"Let me suggest {language}. This is programming language\")\n",
    "])\n",
    "\n",
    "poet_chain = poet_prompt | chat\n",
    "\n",
    "final_chain = {\"language\": language_chain} | poet_chain\n",
    "\n",
    "final_chain.invoke({})"
   ]
  },
  {
   "cell_type": "code",
   "execution_count": null,
   "metadata": {},
   "outputs": [],
   "source": []
  }
 ],
 "metadata": {
  "kernelspec": {
   "display_name": "env",
   "language": "python",
   "name": "python3"
  },
  "language_info": {
   "codemirror_mode": {
    "name": "ipython",
    "version": 3
   },
   "file_extension": ".py",
   "mimetype": "text/x-python",
   "name": "python",
   "nbconvert_exporter": "python",
   "pygments_lexer": "ipython3",
   "version": "3.11.8"
  }
 },
 "nbformat": 4,
 "nbformat_minor": 2
}
