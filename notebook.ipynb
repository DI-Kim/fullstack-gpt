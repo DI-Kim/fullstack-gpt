{
 "cells": [
  {
   "cell_type": "code",
   "execution_count": 17,
   "metadata": {},
   "outputs": [],
   "source": [
    "from langchain.memory import ConversationSummaryBufferMemory\n",
    "from langchain.chat_models import ChatOpenAI\n",
    "from langchain.schema.runnable import RunnablePassthrough\n",
    "from langchain.prompts import ChatPromptTemplate, MessagesPlaceholder\n",
    "\n",
    "llm = ChatOpenAI(temperature=0.1)\n",
    "\n",
    "memory = ConversationSummaryBufferMemory(\n",
    "  llm=llm,\n",
    "  max_token_limit=120,\n",
    "  # memory_key=\"history\", # history는 code convention으로 굳이 쓰지 않아도 된다.\n",
    "  return_messages=True\n",
    ")\n",
    "\n",
    "prompt = ChatPromptTemplate.from_messages([\n",
    "  (\"system\", \"You are a helpful AI talking to a human\"),\n",
    "  MessagesPlaceholder(variable_name=\"history\"),\n",
    "  (\"human\", \"{question}\"),\n",
    "])\n",
    "\n",
    "def load_memory(input):\n",
    "  return memory.load_memory_variables({})[\"history\"] # 메모리에 저장되어 있는 내용을 불러옴\n",
    "\n",
    "chain = RunnablePassthrough.assign(history=load_memory) | prompt | llm\n",
    "\n",
    "def invoke_chain(question):\n",
    "  result = chain.invoke({\"question\": question})\n",
    "  memory.save_context({\"input\": question}, {\"output\": result.content}) # 메모리에 저장\n",
    "  print(result)"
   ]
  },
  {
   "cell_type": "code",
   "execution_count": 18,
   "metadata": {},
   "outputs": [
    {
     "name": "stdout",
     "output_type": "stream",
     "text": [
      "content='안녕하세요, 빅퍼슨님! 무엇을 도와드릴까요?'\n"
     ]
    }
   ],
   "source": [
    "invoke_chain(\"안녕, 내 이름은 빅퍼슨이야\")"
   ]
  },
  {
   "cell_type": "code",
   "execution_count": 19,
   "metadata": {},
   "outputs": [
    {
     "name": "stdout",
     "output_type": "stream",
     "text": [
      "content='죄송합니다, 제가 알려드릴 수 있는 지역이나 도시를 말씀해주시면 해당 지역의 날씨 정보를 알려드릴 수 있습니다.'\n"
     ]
    }
   ],
   "source": [
    "invoke_chain(\"오늘 날씨는 어떄?\")"
   ]
  },
  {
   "cell_type": "code",
   "execution_count": 20,
   "metadata": {},
   "outputs": [
    {
     "name": "stdout",
     "output_type": "stream",
     "text": [
      "content='당신의 이름은 빅퍼슨님이십니다. 어떻게 도와드릴까요?'\n"
     ]
    }
   ],
   "source": [
    "invoke_chain(\"내 이름이 뭐라구?\")"
   ]
  }
 ],
 "metadata": {
  "kernelspec": {
   "display_name": "env",
   "language": "python",
   "name": "python3"
  },
  "language_info": {
   "codemirror_mode": {
    "name": "ipython",
    "version": 3
   },
   "file_extension": ".py",
   "mimetype": "text/x-python",
   "name": "python",
   "nbconvert_exporter": "python",
   "pygments_lexer": "ipython3",
   "version": "3.11.8"
  }
 },
 "nbformat": 4,
 "nbformat_minor": 2
}
