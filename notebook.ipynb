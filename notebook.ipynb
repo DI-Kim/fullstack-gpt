{
 "cells": [
  {
   "cell_type": "code",
   "execution_count": 8,
   "metadata": {},
   "outputs": [
    {
     "name": "stdout",
     "output_type": "stream",
     "text": [
      "\n",
      "\n",
      "\u001b[1m> Entering new LLMChain chain...\u001b[0m\n",
      "Prompt after formatting:\n",
      "\u001b[32;1m\u001b[1;3mSystem: You are a helpful AI talking to a human\n",
      "Human: My name is bigPerson\u001b[0m\n",
      "\n",
      "\u001b[1m> Finished chain.\u001b[0m\n"
     ]
    },
    {
     "data": {
      "text/plain": [
       "'Hello bigPerson! How can I assist you today?'"
      ]
     },
     "execution_count": 8,
     "metadata": {},
     "output_type": "execute_result"
    }
   ],
   "source": [
    "from langchain.memory import ConversationSummaryBufferMemory\n",
    "from langchain.chat_models import ChatOpenAI\n",
    "from langchain.chains import LLMChain\n",
    "from langchain.prompts import ChatPromptTemplate, MessagesPlaceholder\n",
    "\n",
    "llm = ChatOpenAI(temperature=0.1)\n",
    "\n",
    "memory = ConversationSummaryBufferMemory(\n",
    "  llm=llm,\n",
    "  max_token_limit=120,\n",
    "  memory_key=\"chat_history\",\n",
    "  return_messages=True\n",
    ")\n",
    "\n",
    "prompt = ChatPromptTemplate.from_messages([\n",
    "  (\"system\", \"You are a helpful AI talking to a human\"),\n",
    "  MessagesPlaceholder(variable_name=\"chat_history\"),\n",
    "  (\"human\", \"{question}\"),\n",
    "])\n",
    "\n",
    "chain = LLMChain(\n",
    "  llm=llm,\n",
    "  memory=memory,\n",
    "  prompt=prompt,\n",
    "  verbose=True,\n",
    ")\n",
    "\n",
    "chain.predict(question=\"My name is bigPerson\")"
   ]
  },
  {
   "cell_type": "code",
   "execution_count": 9,
   "metadata": {},
   "outputs": [
    {
     "name": "stdout",
     "output_type": "stream",
     "text": [
      "\n",
      "\n",
      "\u001b[1m> Entering new LLMChain chain...\u001b[0m\n",
      "Prompt after formatting:\n",
      "\u001b[32;1m\u001b[1;3mSystem: You are a helpful AI talking to a human\n",
      "Human: My name is bigPerson\n",
      "AI: Hello bigPerson! How can I assist you today?\n",
      "Human: I live in Seoul\u001b[0m\n",
      "\n",
      "\u001b[1m> Finished chain.\u001b[0m\n"
     ]
    },
    {
     "data": {
      "text/plain": [
       "'Seoul is a vibrant city with a rich history and culture. Is there anything specific you would like to know or discuss about Seoul?'"
      ]
     },
     "execution_count": 9,
     "metadata": {},
     "output_type": "execute_result"
    }
   ],
   "source": [
    "chain.predict(question=\"I live in Seoul\")"
   ]
  },
  {
   "cell_type": "code",
   "execution_count": 10,
   "metadata": {},
   "outputs": [
    {
     "name": "stdout",
     "output_type": "stream",
     "text": [
      "\n",
      "\n",
      "\u001b[1m> Entering new LLMChain chain...\u001b[0m\n",
      "Prompt after formatting:\n",
      "\u001b[32;1m\u001b[1;3mSystem: You are a helpful AI talking to a human\n",
      "Human: My name is bigPerson\n",
      "AI: Hello bigPerson! How can I assist you today?\n",
      "Human: I live in Seoul\n",
      "AI: Seoul is a vibrant city with a rich history and culture. Is there anything specific you would like to know or discuss about Seoul?\n",
      "Human: What is my name?\u001b[0m\n",
      "\n",
      "\u001b[1m> Finished chain.\u001b[0m\n"
     ]
    },
    {
     "data": {
      "text/plain": [
       "'Your name is bigPerson, as you mentioned earlier. How can I assist you further, bigPerson?'"
      ]
     },
     "execution_count": 10,
     "metadata": {},
     "output_type": "execute_result"
    }
   ],
   "source": [
    "chain.predict(question=\"What is my name?\")"
   ]
  },
  {
   "cell_type": "code",
   "execution_count": 11,
   "metadata": {},
   "outputs": [
    {
     "name": "stdout",
     "output_type": "stream",
     "text": [
      "\n",
      "\n",
      "\u001b[1m> Entering new LLMChain chain...\u001b[0m\n",
      "Prompt after formatting:\n",
      "\u001b[32;1m\u001b[1;3mSystem: You are a helpful AI talking to a human\n",
      "Human: My name is bigPerson\n",
      "AI: Hello bigPerson! How can I assist you today?\n",
      "Human: I live in Seoul\n",
      "AI: Seoul is a vibrant city with a rich history and culture. Is there anything specific you would like to know or discuss about Seoul?\n",
      "Human: What is my name?\n",
      "AI: Your name is bigPerson, as you mentioned earlier. How can I assist you further, bigPerson?\n",
      "Human: Recommend travle site in Seoul\u001b[0m\n",
      "\n",
      "\u001b[1m> Finished chain.\u001b[0m\n"
     ]
    },
    {
     "data": {
      "text/plain": [
       "'There are many wonderful travel sites to visit in Seoul. Here are a few recommendations:\\n\\n1. Gyeongbokgung Palace: This grand palace is a must-visit for history and architecture enthusiasts.\\n\\n2. Bukchon Hanok Village: Explore traditional Korean houses and experience the charm of old Seoul.\\n\\n3. N Seoul Tower: Enjoy panoramic views of the city from this iconic landmark.\\n\\n4. Myeongdong: A bustling shopping district with a wide range of shops and street food stalls.\\n\\n5. Insadong: A cultural hub with art galleries, traditional tea houses, and souvenir shops.\\n\\nThese are just a few of the many attractions Seoul has to offer. Enjoy your travels in this dynamic city!'"
      ]
     },
     "execution_count": 11,
     "metadata": {},
     "output_type": "execute_result"
    }
   ],
   "source": [
    "chain.predict(question=\"Recommend travle site in Seoul\")"
   ]
  },
  {
   "cell_type": "code",
   "execution_count": 12,
   "metadata": {},
   "outputs": [
    {
     "name": "stdout",
     "output_type": "stream",
     "text": [
      "\n",
      "\n",
      "\u001b[1m> Entering new LLMChain chain...\u001b[0m\n",
      "Prompt after formatting:\n",
      "\u001b[32;1m\u001b[1;3mSystem: You are a helpful AI talking to a human\n",
      "System: The human introduces themselves as bigPerson and mentions living in Seoul. The AI acknowledges this and offers assistance. The human asks the AI to recommend travel sites in Seoul, and the AI provides a list of recommendations including Gyeongbokgung Palace, Bukchon Hanok Village, N Seoul Tower, Myeongdong, and Insadong. The AI encourages the human to explore these attractions and enjoy their travels in Seoul.\n",
      "Human: What is famous in Seoul?\u001b[0m\n",
      "\n",
      "\u001b[1m> Finished chain.\u001b[0m\n"
     ]
    },
    {
     "data": {
      "text/plain": [
       "'Seoul, the capital city of South Korea, is known for its rich history, vibrant culture, delicious food, and modern architecture. Some of the famous attractions in Seoul include:\\n\\n1. Gyeongbokgung Palace: A grand palace that was the main royal palace of the Joseon dynasty.\\n2. Bukchon Hanok Village: A traditional Korean village with well-preserved hanok houses.\\n3. N Seoul Tower: An iconic landmark offering panoramic views of the city.\\n4. Myeongdong: A bustling shopping district known for its trendy fashion boutiques and street food.\\n5. Insadong: A neighborhood famous for its traditional Korean arts and crafts, tea houses, and galleries.\\n\\nThese are just a few of the many attractions that make Seoul a popular destination for tourists.'"
      ]
     },
     "execution_count": 12,
     "metadata": {},
     "output_type": "execute_result"
    }
   ],
   "source": [
    "chain.predict(question=\"What is famous in Seoul?\")"
   ]
  },
  {
   "cell_type": "code",
   "execution_count": 13,
   "metadata": {},
   "outputs": [
    {
     "name": "stdout",
     "output_type": "stream",
     "text": [
      "\n",
      "\n",
      "\u001b[1m> Entering new LLMChain chain...\u001b[0m\n",
      "Prompt after formatting:\n",
      "\u001b[32;1m\u001b[1;3mSystem: You are a helpful AI talking to a human\n",
      "System: The human introduces themselves as bigPerson and mentions living in Seoul. The AI acknowledges this and offers assistance. The human asks the AI to recommend travel sites in Seoul, and the AI provides a list of recommendations including Gyeongbokgung Palace, Bukchon Hanok Village, N Seoul Tower, Myeongdong, and Insadong. The AI encourages the human to explore these attractions and enjoy their travels in Seoul. When asked what is famous in Seoul, the AI explains that Seoul is known for its rich history, vibrant culture, delicious food, and modern architecture, listing popular attractions like Gyeongbokgung Palace, Bukchon Hanok Village, N Seoul Tower, Myeongdong, and Insadong.\n",
      "Human: recommend one place\u001b[0m\n",
      "\n",
      "\u001b[1m> Finished chain.\u001b[0m\n"
     ]
    },
    {
     "data": {
      "text/plain": [
       "\"If I had to recommend just one place for you to visit in Seoul, I would suggest Gyeongbokgung Palace. It is one of the most iconic and historically significant landmarks in the city, offering a glimpse into Korea's royal past. The palace grounds are expansive and beautiful, with stunning architecture and picturesque gardens. It's a must-visit for anyone interested in Korean history and culture.\""
      ]
     },
     "execution_count": 13,
     "metadata": {},
     "output_type": "execute_result"
    }
   ],
   "source": [
    "chain.predict(question=\"recommend one place\")"
   ]
  }
 ],
 "metadata": {
  "kernelspec": {
   "display_name": "env",
   "language": "python",
   "name": "python3"
  },
  "language_info": {
   "codemirror_mode": {
    "name": "ipython",
    "version": 3
   },
   "file_extension": ".py",
   "mimetype": "text/x-python",
   "name": "python",
   "nbconvert_exporter": "python",
   "pygments_lexer": "ipython3",
   "version": "3.11.8"
  }
 },
 "nbformat": 4,
 "nbformat_minor": 2
}
