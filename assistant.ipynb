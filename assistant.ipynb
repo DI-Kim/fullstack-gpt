{
 "cells": [
  {
   "cell_type": "code",
   "execution_count": 11,
   "metadata": {},
   "outputs": [],
   "source": [
    "from langchain.utilities.duckduckgo_search import DuckDuckGoSearchAPIWrapper\n",
    "import yfinance\n",
    "import json\n",
    "\n",
    "\n",
    "def get_ticker(inputs):\n",
    "    ddg = DuckDuckGoSearchAPIWrapper()\n",
    "    company_name = inputs[\"company_name\"]\n",
    "    return ddg.run(f\"Ticker symbol of {company_name}\")\n",
    "\n",
    "\n",
    "def get_income_statement(inputs):\n",
    "    ticker = inputs[\"ticker\"]\n",
    "    stock = yfinance.Ticker(ticker)\n",
    "    return json.dumps(stock.income_stmt.to_json())\n",
    "\n",
    "\n",
    "def get_balance_sheet(inputs):\n",
    "    ticker = inputs[\"ticker\"]\n",
    "    stock = yfinance.Ticker(ticker)\n",
    "    return json.dumps(stock.balance_sheet.to_json())\n",
    "\n",
    "\n",
    "def get_daily_stock_performance(inputs):\n",
    "    ticker = inputs[\"ticker\"]\n",
    "    stock = yfinance.Ticker(ticker)\n",
    "    return json.dumps(stock.history(period=\"3mo\").to_json())\n",
    "\n",
    "\n",
    "functions = [\n",
    "    {\n",
    "        \"type\": \"function\",\n",
    "        \"function\": {\n",
    "            \"name\": \"get_ticker\",\n",
    "            \"description\": \"Given the name of a company returns its ticker symbol\",\n",
    "            \"parameters\": {\n",
    "                \"type\": \"object\",\n",
    "                \"properties\": {\n",
    "                    \"company_name\": {\n",
    "                        \"type\": \"string\",\n",
    "                        \"description\": \"The name of the company\",\n",
    "                    }\n",
    "                },\n",
    "                \"required\": [\"company_name\"],\n",
    "            },\n",
    "        },\n",
    "    },\n",
    "    {\n",
    "        \"type\": \"function\",\n",
    "        \"function\": {\n",
    "            \"name\": \"get_income_statement\",\n",
    "            \"description\": \"Given a ticker symbol (i.e AAPL) returns the company's income statement.\",\n",
    "            \"parameters\": {\n",
    "                \"type\": \"object\",\n",
    "                \"properties\": {\n",
    "                    \"ticker\": {\n",
    "                        \"type\": \"string\",\n",
    "                        \"description\": \"Ticker symbol of the company\",\n",
    "                    },\n",
    "                },\n",
    "                \"required\": [\"ticker\"],\n",
    "            },\n",
    "        },\n",
    "    },\n",
    "    {\n",
    "        \"type\": \"function\",\n",
    "        \"function\": {\n",
    "            \"name\": \"get_balance_sheet\",\n",
    "            \"description\": \"Given a ticker symbol (i.e AAPL) returns the company's balance sheet.\",\n",
    "            \"parameters\": {\n",
    "                \"type\": \"object\",\n",
    "                \"properties\": {\n",
    "                    \"ticker\": {\n",
    "                        \"type\": \"string\",\n",
    "                        \"description\": \"Ticker symbol of the company\",\n",
    "                    },\n",
    "                },\n",
    "                \"required\": [\"ticker\"],\n",
    "            },\n",
    "        },\n",
    "    },\n",
    "    {\n",
    "        \"type\": \"function\",\n",
    "        \"function\": {\n",
    "            \"name\": \"get_daily_stock_performance\",\n",
    "            \"description\": \"Given a ticker symbol (i.e AAPL) returns the performance of the stock for the last 100 days.\",\n",
    "            \"parameters\": {\n",
    "                \"type\": \"object\",\n",
    "                \"properties\": {\n",
    "                    \"ticker\": {\n",
    "                        \"type\": \"string\",\n",
    "                        \"description\": \"Ticker symbol of the company\",\n",
    "                    },\n",
    "                },\n",
    "                \"required\": [\"ticker\"],\n",
    "            },\n",
    "        },\n",
    "    },\n",
    "]\n"
   ]
  },
  {
   "cell_type": "code",
   "execution_count": 2,
   "metadata": {},
   "outputs": [],
   "source": [
    "# from openai import OpenAI\n",
    "# client = OpenAI()\n",
    "import openai as client\n",
    "\n",
    "# assistant = client.beta.assistants.create(\n",
    "#   name=\"Investor Assistant\",\n",
    "#   instructions=\"You help users do research on publicly traded companies and you help users decide if they should buy the stock or not.\",\n",
    "#   model=\"gpt-4-1106-preview\",\n",
    "#   tools=functions\n",
    "# )\n",
    "\n",
    "assistant_id = \"asst_sNRfGqBlfUQnarB6j5clyGxW\""
   ]
  },
  {
   "cell_type": "code",
   "execution_count": 3,
   "metadata": {},
   "outputs": [
    {
     "data": {
      "text/plain": [
       "Thread(id='thread_9zrU6pX7oIo8xPr3vBYyEnfe', created_at=1712913888, metadata={}, object='thread')"
      ]
     },
     "execution_count": 3,
     "metadata": {},
     "output_type": "execute_result"
    }
   ],
   "source": [
    "thread = client.beta.threads.create(\n",
    "    messages=[\n",
    "        {\n",
    "            \"role\": \"user\",\n",
    "            \"content\": \"I want to know if the Salesforce stock is a good buy\",\n",
    "        }\n",
    "    ]\n",
    ")\n",
    "thread"
   ]
  },
  {
   "cell_type": "code",
   "execution_count": 5,
   "metadata": {},
   "outputs": [
    {
     "data": {
      "text/plain": [
       "Run(id='run_Mziddn3DRXgmC1rbN0nmxLML', assistant_id='asst_sNRfGqBlfUQnarB6j5clyGxW', cancelled_at=None, completed_at=None, created_at=1712913895, expires_at=1712914495, failed_at=None, file_ids=[], instructions='You help users do research on publicly traded companies and you help users decide if they should buy the stock or not.', last_error=None, metadata={}, model='gpt-4-1106-preview', object='thread.run', required_action=None, started_at=None, status='queued', thread_id='thread_9zrU6pX7oIo8xPr3vBYyEnfe', tools=[FunctionTool(function=FunctionDefinition(name='get_ticker', description='Given the name of a company returns its ticker symbol', parameters={'type': 'object', 'properties': {'company_name': {'type': 'string', 'description': 'The name of the company'}}, 'required': ['company_name']}), type='function'), FunctionTool(function=FunctionDefinition(name='get_income_statement', description=\"Given a ticker symbol (i.e AAPL) returns the company's income statement.\", parameters={'type': 'object', 'properties': {'ticker': {'type': 'string', 'description': 'Ticker symbol of the company'}}, 'required': ['ticker']}), type='function'), FunctionTool(function=FunctionDefinition(name='get_balance_sheet', description=\"Given a ticker symbol (i.e AAPL) returns the company's balance sheet.\", parameters={'type': 'object', 'properties': {'ticker': {'type': 'string', 'description': 'Ticker symbol of the company'}}, 'required': ['ticker']}), type='function'), FunctionTool(function=FunctionDefinition(name='get_daily_stock_performance', description='Given a ticker symbol (i.e AAPL) returns the performance of the stock for the last 100 days.', parameters={'type': 'object', 'properties': {'ticker': {'type': 'string', 'description': 'Ticker symbol of the company'}}, 'required': ['ticker']}), type='function')], usage=None, temperature=1.0, max_completion_tokens=None, max_prompt_tokens=None, truncation_strategy={'type': 'auto', 'last_messages': None}, incomplete_details=None)"
      ]
     },
     "execution_count": 5,
     "metadata": {},
     "output_type": "execute_result"
    }
   ],
   "source": [
    "run = client.beta.threads.runs.create(\n",
    "    thread_id=thread.id,\n",
    "    assistant_id=assistant_id,\n",
    ")\n",
    "run"
   ]
  },
  {
   "cell_type": "code",
   "execution_count": 4,
   "metadata": {},
   "outputs": [],
   "source": [
    "def get_run(run_id, thread_id):\n",
    "    return client.beta.threads.runs.retrieve(\n",
    "        run_id=run_id,\n",
    "        thread_id=thread_id,\n",
    "    )\n",
    "\n",
    "\n",
    "def get_messages(thread_id):\n",
    "    messages = client.beta.threads.messages.list(thread_id=thread_id)\n",
    "    messages = list(messages)\n",
    "    messages.reverse()\n",
    "    for message in messages:\n",
    "        print(f\"{message.role}: {message.content[0].text.value}\")"
   ]
  },
  {
   "cell_type": "code",
   "execution_count": 7,
   "metadata": {},
   "outputs": [
    {
     "name": "stdout",
     "output_type": "stream",
     "text": [
      "user: I want to know if the Salesforce stock is a good buy\n"
     ]
    }
   ],
   "source": [
    "get_messages(thread.id)"
   ]
  },
  {
   "cell_type": "code",
   "execution_count": 6,
   "metadata": {},
   "outputs": [
    {
     "data": {
      "text/plain": [
       "'requires_action'"
      ]
     },
     "execution_count": 6,
     "metadata": {},
     "output_type": "execute_result"
    }
   ],
   "source": [
    "get_run(run.id, thread.id).status"
   ]
  },
  {
   "cell_type": "code",
   "execution_count": 12,
   "metadata": {},
   "outputs": [
    {
     "data": {
      "text/plain": [
       "\"Salesforce is the world's #1 customer relationship management (CRM) platform. Learn More. Mobile Site Search. Overview. About; Stock Information. Stock Chart; ... Current Stock quote. Historical stock quote. Look Up. Investment calculator. Investment amount ($) Start date. End date. Compare to: S&P 500. Nasdaq 100. Dow 30. Other. Reinvest ... Stock analysis for Salesforce Inc (CRM:New York) including stock price, stock chart, company news, key statistics, fundamentals and company profile. ALLEN, Texas-- (BUSINESS WIRE)--Social Impact Copilot™ seamlessly integrates with Salesforce Einstein Copilot to help businesses align with customers. Get a real-time Salesforce, Inc. (CRM) stock price quote with breaking news, financials, statistics, charts and more. See the latest Salesforce stock price NYSE: CRM stock ratings, related news, valuation, dividends and more to help you make your investing decisions. The latest Salesforce stock prices, stock quotes, news, and CRM history to help you invest and trade smarter.\""
      ]
     },
     "execution_count": 12,
     "metadata": {},
     "output_type": "execute_result"
    }
   ],
   "source": [
    "get_ticker({\"company_name\":\"Salesforce\"})"
   ]
  }
 ],
 "metadata": {
  "kernelspec": {
   "display_name": "env",
   "language": "python",
   "name": "python3"
  },
  "language_info": {
   "codemirror_mode": {
    "name": "ipython",
    "version": 3
   },
   "file_extension": ".py",
   "mimetype": "text/x-python",
   "name": "python",
   "nbconvert_exporter": "python",
   "pygments_lexer": "ipython3",
   "version": "3.11.8"
  }
 },
 "nbformat": 4,
 "nbformat_minor": 2
}
