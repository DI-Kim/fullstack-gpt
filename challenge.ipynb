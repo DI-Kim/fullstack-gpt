{
 "cells": [
  {
   "cell_type": "code",
   "execution_count": 2,
   "metadata": {},
   "outputs": [
    {
     "name": "stdout",
     "output_type": "stream",
     "text": [
      "AI:\n",
      "범죄도시 1에 대한 정보입니다:\n",
      "감독: 강윤성\n",
      "주요 출연진: 마동석, 윤계상, 조재윤, 최귀화\n",
      "예산: 100억원\n",
      "흥행 수익: 130억원\n",
      "영화의 장르: 범죄, 액션, 스릴러\n",
      "시놉시스:\n",
      "범죄도시, 그곳은 범죄자들이 서로 무법의 세계를 살아가는 곳이다.\n",
      "그곳에서 살아가는 범죄자들과 경찰들의 이야기가 펼쳐진다.\n",
      "강력반 대장 조현수(마동석)는 범죄도시의 최강 조직을 잡기 위해\n",
      "조직의 일원으로 위장하여 조직 내부로 침투한다.\n",
      "그리고 그의 친구인 범죄자 마상현(윤계상)과의 갈등, 그리고 조직의 숨겨진 비밀이 드러나면서\n",
      "긴박한 상황이 펼쳐지게 된다.범죄도시 1은 범죄와 액션으로 가득한 긴장감 넘치는 영화이다."
     ]
    },
    {
     "data": {
      "text/plain": [
       "AIMessageChunk(content='AI:\\n범죄도시 1에 대한 정보입니다:\\n감독: 강윤성\\n주요 출연진: 마동석, 윤계상, 조재윤, 최귀화\\n예산: 100억원\\n흥행 수익: 130억원\\n영화의 장르: 범죄, 액션, 스릴러\\n시놉시스:\\n범죄도시, 그곳은 범죄자들이 서로 무법의 세계를 살아가는 곳이다.\\n그곳에서 살아가는 범죄자들과 경찰들의 이야기가 펼쳐진다.\\n강력반 대장 조현수(마동석)는 범죄도시의 최강 조직을 잡기 위해\\n조직의 일원으로 위장하여 조직 내부로 침투한다.\\n그리고 그의 친구인 범죄자 마상현(윤계상)과의 갈등, 그리고 조직의 숨겨진 비밀이 드러나면서\\n긴박한 상황이 펼쳐지게 된다.범죄도시 1은 범죄와 액션으로 가득한 긴장감 넘치는 영화이다.')"
      ]
     },
     "execution_count": 2,
     "metadata": {},
     "output_type": "execute_result"
    }
   ],
   "source": [
    "from langchain.chat_models import ChatOpenAI\n",
    "from langchain.prompts import PromptTemplate\n",
    "from langchain.prompts.few_shot import FewShotPromptTemplate\n",
    "from langchain.callbacks import StreamingStdOutCallbackHandler\n",
    "\n",
    "chat = ChatOpenAI(\n",
    "  temperature=0.1,\n",
    "  streaming=True,\n",
    "  callbacks=[StreamingStdOutCallbackHandler()]\n",
    ")\n",
    "\n",
    "examples = [\n",
    "{\n",
    "\"question\": \"서울의 봄이라는 영화에 대해 알려줘.\",\n",
    "\"answer\": \"\"\"\n",
    "서울의 봄에 대한 정보입니다:\n",
    "감독: 김성수\n",
    "주요 출연진: 황정민, 정우성, 이성민, 박해준, 김성균\n",
    "예산: 233억원\n",
    "흥행 수익: 1186억원\n",
    "영화의 장르: 시대극, 드라마, 스릴러, 느와르, 액션\n",
    "시놉시스:\n",
    "1979년 12월 12일, 수도 서울 군사반란 발생\n",
    "그날, 대한민국의 운명이 바뀌었다.\n",
    "\n",
    "대한민국을 뒤흔든 10월 26일 이후, 서울에 새로운 바람이 불어온 것도 잠시\n",
    "12월 12일, 보안사령관 전두광이 반란을 일으키고\n",
    "군 내 사조직을 총동원하여 최전선의 전방부대까지 빼내 수도 서울로 불러들인다.\n",
    "\n",
    "권력에 눈이 먼 전두광 보안사령관의 반란군과 이에 맞선 수도경비사령관 이태신을 비롯한\n",
    "정부군 사이, 일촉즉발의 9시간이 흘러가는데…\n",
    "\n",
    "목숨을 건 두 세력의 팽팽한 대립과 갈등\n",
    "오늘 밤, 대한민국 수도에서 가장 치열한 전쟁이 펼쳐진다!\n",
    "\"\"\",\n",
    "},\n",
    "{\n",
    "\"question\": \"파묘라는 영화에 대해 알려줘.\",\n",
    "\"answer\": \"\"\"\n",
    "파묘에 대한 정보입니다:\n",
    "감독: 장재현\n",
    "주요 출연진: 최민식, 김고은, 유해진, 이도현\n",
    "예산: 140억원\n",
    "흥행 수익: 995억원\n",
    "영화의 장르: 미스터리, 스릴러, 공포, 서스펜스, 오컬트\n",
    "시놉시스:\n",
    "미국 LA, 거액의 의뢰를 받은 무당 ‘화림’(김고은)과 ‘봉길’(이도현)은\n",
    "기이한 병이 대물림되는 집안의 장손을 만난다.\n",
    "조상의 묫자리가 화근임을 알아챈 ‘화림’은 이장을 권하고,\n",
    "돈 냄새를 맡은 최고의 풍수사 ‘상덕’(최민식)과 장의사 ‘영근’(유해진)이 합류한다.\n",
    "\n",
    "“전부 잘 알 거야… 묘 하나 잘못 건들면 어떻게 되는지”\n",
    "\n",
    "절대 사람이 묻힐 수 없는 악지에 자리한 기이한 묘.\n",
    "‘상덕’은 불길한 기운을 느끼고 제안을 거절하지만,\n",
    "‘화림’의 설득으로 결국 파묘가 시작되고….\n",
    "\n",
    "나와서는 안될 것이 나왔다.\n",
    "\"\"\",\n",
    "},\n",
    "]\n",
    "\n",
    "example_prompt = PromptTemplate.from_template(\"Human: {question}\\nAI:{answer}\")\n",
    "\n",
    "prompt = FewShotPromptTemplate(\n",
    "  example_prompt=example_prompt,\n",
    "  examples=examples,\n",
    "  suffix=\"Human: {movie_title}이라는 영화에 대해 알려줘.\",\n",
    "  input_variables=[\"movie_title\"]\n",
    ")\n",
    "\n",
    "chain = prompt | chat\n",
    "\n",
    "chain.invoke({\n",
    "  \"movie_title\": \"범죄도시 1\"\n",
    "})"
   ]
  }
 ],
 "metadata": {
  "kernelspec": {
   "display_name": "env",
   "language": "python",
   "name": "python3"
  },
  "language_info": {
   "codemirror_mode": {
    "name": "ipython",
    "version": 3
   },
   "file_extension": ".py",
   "mimetype": "text/x-python",
   "name": "python",
   "nbconvert_exporter": "python",
   "pygments_lexer": "ipython3",
   "version": "3.11.8"
  }
 },
 "nbformat": 4,
 "nbformat_minor": 2
}
