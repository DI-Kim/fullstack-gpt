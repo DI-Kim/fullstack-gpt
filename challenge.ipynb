{
 "cells": [
  {
   "cell_type": "code",
   "execution_count": 7,
   "metadata": {},
   "outputs": [],
   "source": [
    "from langchain.chat_models import ChatOpenAI\n",
    "from langchain.prompts import ChatPromptTemplate, MessagesPlaceholder\n",
    "from langchain.prompts.few_shot import FewShotChatMessagePromptTemplate\n",
    "from langchain.memory import ConversationSummaryBufferMemory\n",
    "from langchain.schema.runnable import RunnablePassthrough\n",
    "\n",
    "\n",
    "llm = ChatOpenAI(\n",
    "  temperature=0.1,\n",
    ")\n",
    "\n",
    "memory = ConversationSummaryBufferMemory(\n",
    "  llm=llm,\n",
    "  max_token_limit=120,\n",
    "  return_messages=True\n",
    ")\n",
    "\n",
    "examples = [\n",
    "  {\n",
    "    \"question\": \"탑건\",\n",
    "    \"answer\": \"🛩️🧑‍✈️🔥\"\n",
    "  },\n",
    "  {\n",
    "    \"question\": \"대부\",\n",
    "    \"answer\": \"🧑‍🧑‍🧒🔫🍝\"\n",
    "  },\n",
    "  {\n",
    "    \"question\": \"괴물\",\n",
    "    \"answer\": \"🦖🏢👣\"\n",
    "  },\n",
    "  {\n",
    "    \"question\": \"미션임파서블\",\n",
    "    \"answer\": \"🕶️💥🔒\"\n",
    "  }\n",
    "]\n",
    "\n",
    "example_prompt = ChatPromptTemplate.from_messages([\n",
    "  (\"human\", \"{question}\"),\n",
    "  (\"ai\", \"{answer}\")\n",
    "])\n",
    "\n",
    "example_prompt = FewShotChatMessagePromptTemplate(\n",
    "  example_prompt=example_prompt,\n",
    "  examples=examples,\n",
    ")\n",
    "\n",
    "final_prompt = ChatPromptTemplate.from_messages([\n",
    "  example_prompt,\n",
    "  (\"system\", \"You are a emoji master, if question is movie title that you know, you should must using three emoji\"),\n",
    "  MessagesPlaceholder(variable_name=\"history\"),\n",
    "  (\"human\", \"{question}\")\n",
    "])\n",
    "\n",
    "def load_memory(input):\n",
    "  return memory.load_memory_variables({})[\"history\"] # 메모리에 저장되어 있는 내용을 불러옴\n",
    "\n",
    "chain = RunnablePassthrough.assign(history=load_memory) | final_prompt | llm\n",
    "\n",
    "def invoke_chain(question):\n",
    "  result = chain.invoke({\"question\": question})\n",
    "  memory.save_context({\"input\": question}, {\"output\": result.content}) # 메모리에 저장\n",
    "  print(result)"
   ]
  },
  {
   "cell_type": "code",
   "execution_count": 9,
   "metadata": {},
   "outputs": [
    {
     "name": "stdout",
     "output_type": "stream",
     "text": [
      "content='👻🔍🕵️\\u200d♂️'\n"
     ]
    }
   ],
   "source": [
    "invoke_chain(\"파묘\")"
   ]
  },
  {
   "cell_type": "code",
   "execution_count": 13,
   "metadata": {},
   "outputs": [
    {
     "name": "stdout",
     "output_type": "stream",
     "text": [
      "content='👹👸🐉'\n"
     ]
    }
   ],
   "source": [
    "invoke_chain(\"슈렉\")"
   ]
  },
  {
   "cell_type": "code",
   "execution_count": 10,
   "metadata": {},
   "outputs": [
    {
     "name": "stdout",
     "output_type": "stream",
     "text": [
      "content='❄️👸⛄'\n"
     ]
    }
   ],
   "source": [
    "invoke_chain(\"겨울왕국\")"
   ]
  },
  {
   "cell_type": "code",
   "execution_count": 15,
   "metadata": {},
   "outputs": [
    {
     "data": {
      "text/plain": [
       "[SystemMessage(content='The human says \"파묘\" and the AI responds with emojis of a ghost, magnifying glass, and detective. The human mentions \"겨울왕국\" and the AI responds with emojis of snowflake, princess, and snowman. The human asks what movie was just mentioned.'),\n",
       " AIMessage(content='미안해요, 방금 질문한 영화는 \"겨울왕국\"이었습니다.'),\n",
       " HumanMessage(content='슈렉'),\n",
       " AIMessage(content='👹👸🐉'),\n",
       " HumanMessage(content='방금 질문한 영화가 뭐였지?'),\n",
       " AIMessage(content='방금 질문한 영화는 \"슈렉\"이었습니다.')]"
      ]
     },
     "execution_count": 15,
     "metadata": {},
     "output_type": "execute_result"
    }
   ],
   "source": [
    "load_memory({})"
   ]
  },
  {
   "cell_type": "code",
   "execution_count": 14,
   "metadata": {},
   "outputs": [
    {
     "name": "stdout",
     "output_type": "stream",
     "text": [
      "content='방금 질문한 영화는 \"슈렉\"이었습니다.'\n"
     ]
    }
   ],
   "source": [
    "invoke_chain(\"방금 질문한 영화가 뭐였지?\")"
   ]
  }
 ],
 "metadata": {
  "kernelspec": {
   "display_name": "env",
   "language": "python",
   "name": "python3"
  },
  "language_info": {
   "codemirror_mode": {
    "name": "ipython",
    "version": 3
   },
   "file_extension": ".py",
   "mimetype": "text/x-python",
   "name": "python",
   "nbconvert_exporter": "python",
   "pygments_lexer": "ipython3",
   "version": "3.11.8"
  }
 },
 "nbformat": 4,
 "nbformat_minor": 2
}
