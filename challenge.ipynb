{
 "cells": [
  {
   "cell_type": "code",
   "execution_count": 13,
   "metadata": {},
   "outputs": [],
   "source": [
    "from langchain.chat_models import ChatOpenAI\n",
    "from langchain.prompts import PromptTemplate\n",
    "from langchain.prompts.few_shot import FewShotPromptTemplate\n",
    "from langchain.memory import ConversationSummaryBufferMemory\n",
    "from langchain.schema.runnable import RunnablePassthrough\n",
    "\n",
    "\n",
    "llm = ChatOpenAI(\n",
    "  temperature=0.1,\n",
    ")\n",
    "\n",
    "memory = ConversationSummaryBufferMemory(\n",
    "  llm=llm,\n",
    "  max_token_limit=120,\n",
    "  return_messages=True\n",
    ")\n",
    "\n",
    "examples = [\n",
    "  {\n",
    "    \"question\": \"탑건\",\n",
    "    \"answer\": \"🛩️🧑‍✈️🔥\"\n",
    "  },\n",
    "  {\n",
    "    \"question\": \"대부\",\n",
    "    \"answer\": \"🧑‍🧑‍🧒🔫🍝\"\n",
    "  },\n",
    "  {\n",
    "    \"question\": \"괴물\",\n",
    "    \"answer\": \"🦖🏢👣\"\n",
    "  },\n",
    "  {\n",
    "    \"question\": \"미션임파서블\",\n",
    "    \"answer\": \"🕶️💥🔒\"\n",
    "  }\n",
    "]\n",
    "\n",
    "example_prompt = PromptTemplate.from_template(\"Human: {question}\\nAI: {answer}\")\n",
    "\n",
    "prompt = FewShotPromptTemplate(\n",
    "  example_prompt=example_prompt,\n",
    "  examples=examples,\n",
    "  suffix=\"Human: {question}\",\n",
    "  input_variables=[\"question\"]\n",
    ")\n",
    "\n",
    "def load_memory(input):\n",
    "  return memory.load_memory_variables({})[\"history\"] # 메모리에 저장되어 있는 내용을 불러옴\n",
    "\n",
    "chain = RunnablePassthrough.assign(history=load_memory) | prompt | llm\n",
    "\n",
    "def invoke_chain(question):\n",
    "  result = chain.invoke({\"question\": question})\n",
    "  memory.save_context({\"input\": question}, {\"output\": result.content}) # 메모리에 저장\n",
    "  print(result)"
   ]
  },
  {
   "cell_type": "code",
   "execution_count": 14,
   "metadata": {},
   "outputs": [
    {
     "name": "stdout",
     "output_type": "stream",
     "text": [
      "content='AI: 🦑🌊🚢'\n"
     ]
    }
   ],
   "source": [
    "invoke_chain(\"괴물\")"
   ]
  },
  {
   "cell_type": "code",
   "execution_count": 15,
   "metadata": {},
   "outputs": [
    {
     "name": "stdout",
     "output_type": "stream",
     "text": [
      "content='AI: 🐱🔍🔦'\n"
     ]
    }
   ],
   "source": [
    "invoke_chain(\"파묘\")"
   ]
  },
  {
   "cell_type": "code",
   "execution_count": 16,
   "metadata": {},
   "outputs": [
    {
     "data": {
      "text/plain": [
       "[HumanMessage(content='괴물'),\n",
       " AIMessage(content='AI: 🦑🌊🚢'),\n",
       " HumanMessage(content='파묘'),\n",
       " AIMessage(content='AI: 🐱🔍🔦')]"
      ]
     },
     "execution_count": 16,
     "metadata": {},
     "output_type": "execute_result"
    }
   ],
   "source": [
    "load_memory({})"
   ]
  },
  {
   "cell_type": "code",
   "execution_count": 17,
   "metadata": {},
   "outputs": [
    {
     "name": "stdout",
     "output_type": "stream",
     "text": [
      "content='AI: 🕶️💥🔒'\n"
     ]
    }
   ],
   "source": [
    "invoke_chain(\"미션임파서블\")"
   ]
  },
  {
   "cell_type": "code",
   "execution_count": 18,
   "metadata": {},
   "outputs": [
    {
     "name": "stdout",
     "output_type": "stream",
     "text": [
      "content='AI: ❄️👑🏰'\n"
     ]
    }
   ],
   "source": [
    "invoke_chain(\"겨울왕국\")"
   ]
  },
  {
   "cell_type": "code",
   "execution_count": 19,
   "metadata": {},
   "outputs": [
    {
     "data": {
      "text/plain": [
       "[HumanMessage(content='괴물'),\n",
       " AIMessage(content='AI: 🦑🌊🚢'),\n",
       " HumanMessage(content='파묘'),\n",
       " AIMessage(content='AI: 🐱🔍🔦'),\n",
       " HumanMessage(content='미션임파서블'),\n",
       " AIMessage(content='AI: 🕶️💥🔒'),\n",
       " HumanMessage(content='겨울왕국'),\n",
       " AIMessage(content='AI: ❄️👑🏰')]"
      ]
     },
     "execution_count": 19,
     "metadata": {},
     "output_type": "execute_result"
    }
   ],
   "source": [
    "load_memory({})"
   ]
  }
 ],
 "metadata": {
  "kernelspec": {
   "display_name": "env",
   "language": "python",
   "name": "python3"
  },
  "language_info": {
   "codemirror_mode": {
    "name": "ipython",
    "version": 3
   },
   "file_extension": ".py",
   "mimetype": "text/x-python",
   "name": "python",
   "nbconvert_exporter": "python",
   "pygments_lexer": "ipython3",
   "version": "3.11.8"
  }
 },
 "nbformat": 4,
 "nbformat_minor": 2
}
